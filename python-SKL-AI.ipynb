{
 "cells": [
  {
   "cell_type": "code",
   "execution_count": null,
   "metadata": {},
   "outputs": [],
   "source": []
  },
  {
   "cell_type": "markdown",
   "metadata": {},
   "source": [
    "# Άσκηση 1η | SKL"
   ]
  },
  {
   "cell_type": "code",
   "execution_count": 91,
   "metadata": {},
   "outputs": [],
   "source": [
    "import pandas as pd\n",
    "from urllib.request import urlretrieve\n",
    "\n",
    "import pandas as pd\n",
    "#importing the necessary libraries\n",
    "from sklearn.datasets import load_iris\n",
    "from sklearn import tree\n",
    "from sklearn.metrics import accuracy_score\n",
    "import numpy as np\n"
   ]
  },
  {
   "cell_type": "code",
   "execution_count": 92,
   "metadata": {},
   "outputs": [
    {
     "data": {
      "text/plain": [
       "['setosa', 'setosa', 'setosa', 'setosa', 'setosa', ..., 'virginica', 'virginica', 'virginica', 'virginica', 'virginica']\n",
       "Length: 150\n",
       "Categories (3, object): ['setosa', 'versicolor', 'virginica']"
      ]
     },
     "execution_count": 92,
     "metadata": {},
     "output_type": "execute_result"
    }
   ],
   "source": [
    "#loading the iris dataset\n",
    "iris = load_iris()\n",
    "\n",
    "x = pd.DataFrame(iris.data, columns=iris.feature_names) #array of the data\n",
    "y = pd.Categorical.from_codes(iris.target,iris.target_names) #array of labels (i.e answers) of each data entry\n",
    "\n",
    "\n",
    "x\n",
    "y"
   ]
  },
  {
   "cell_type": "code",
   "execution_count": 93,
   "metadata": {},
   "outputs": [
    {
     "data": {
      "text/plain": [
       "array([ 78,  82, 134,  51,  64, 103,  18,  59,  85,  73,  40,  88, 114,\n",
       "         1,  35,  96, 138, 130,  43,  25,  83, 106, 115, 104,  68,  70,\n",
       "        67, 128,  15,   9, 144, 147,   0, 122, 100,  28, 113,  63, 136,\n",
       "       125, 116, 105,  55,  17,  45, 146,  46, 143,  27,  21,  38,   4,\n",
       "       149,  69,  11, 110,  52,  84, 111,  33,   3,  57,  92,  44,  10,\n",
       "        37,  61, 124,  49,  36,  19,  56, 123, 120,  24,  62,  48,  23,\n",
       "        98,  14,  26,  72,  20,   7,  93,  39,  90,  77,  30, 109,   2,\n",
       "        22,  66,  31, 108,  86,   6,  97,  71, 118,  95,  81,  58, 119,\n",
       "       148,  65,  42, 142, 139,  54,  29, 132,  32, 126, 137,  12, 107,\n",
       "        13,  53,   8, 140, 112, 129,  76, 135,  80,  89, 131,  50,  41,\n",
       "       145,  99, 133,  34, 121,   5,  47, 127,  79, 117,  87,  74, 101,\n",
       "        60,  16, 141, 102,  94,  75,  91])"
      ]
     },
     "execution_count": 93,
     "metadata": {},
     "output_type": "execute_result"
    }
   ],
   "source": [
    "#getting label names i.e the three flower species\n",
    "y_names = iris.target_names\n",
    "#taking random indices to split the dataset into train and test\n",
    "test_ids = np.random.permutation(len(x))\n",
    "test_ids"
   ]
  },
  {
   "cell_type": "code",
   "execution_count": 94,
   "metadata": {},
   "outputs": [],
   "source": [
    "#splitting data and labels into train and test\n",
    "#keeping last 10 entries for testing, rest for training\n",
    "x_train = test_ids[:-10]\n",
    "x_test = test_ids[-10:]\n",
    "y_train = test_ids[:-10]\n",
    "y_test = test_ids[-10:]\n",
    "\n",
    "# x_train = x.iloc[test_ids[:100]] # reshaping x_train\n",
    "# y_train = y[test_ids[:100]] # reshaping y_train\n",
    "# x_train = x_train.values.reshape(-1, 1) # reshaping x_train\n",
    "# y_train = y_train.reshape(-1, 1) # reshaping y_train\n",
    "\n"
   ]
  },
  {
   "cell_type": "code",
   "execution_count": 95,
   "metadata": {},
   "outputs": [
    {
     "name": "stdout",
     "output_type": "stream",
     "text": [
      "DecisionTreeClassifier()\n"
     ]
    }
   ],
   "source": [
    "#classifying using decision tree\n",
    "clf = tree.DecisionTreeClassifier()\n",
    "\n",
    "print(clf)"
   ]
  },
  {
   "cell_type": "code",
   "execution_count": 96,
   "metadata": {},
   "outputs": [
    {
     "ename": "ValueError",
     "evalue": "Expected 2D array, got 1D array instead:\narray=[ 78.  82. 134.  51.  64. 103.  18.  59.  85.  73.  40.  88. 114.   1.\n  35.  96. 138. 130.  43.  25.  83. 106. 115. 104.  68.  70.  67. 128.\n  15.   9. 144. 147.   0. 122. 100.  28. 113.  63. 136. 125. 116. 105.\n  55.  17.  45. 146.  46. 143.  27.  21.  38.   4. 149.  69.  11. 110.\n  52.  84. 111.  33.   3.  57.  92.  44.  10.  37.  61. 124.  49.  36.\n  19.  56. 123. 120.  24.  62.  48.  23.  98.  14.  26.  72.  20.   7.\n  93.  39.  90.  77.  30. 109.   2.  22.  66.  31. 108.  86.   6.  97.\n  71. 118.  95.  81.  58. 119. 148.  65.  42. 142. 139.  54.  29. 132.\n  32. 126. 137.  12. 107.  13.  53.   8. 140. 112. 129.  76. 135.  80.\n  89. 131.  50.  41. 145.  99. 133.  34. 121.   5.  47. 127.  79. 117.].\nReshape your data either using array.reshape(-1, 1) if your data has a single feature or array.reshape(1, -1) if it contains a single sample.",
     "output_type": "error",
     "traceback": [
      "\u001b[1;31m---------------------------------------------------------------------------\u001b[0m",
      "\u001b[1;31mValueError\u001b[0m                                Traceback (most recent call last)",
      "Cell \u001b[1;32mIn[96], line 2\u001b[0m\n\u001b[0;32m      1\u001b[0m \u001b[38;5;66;03m#training (fitting) the classifier with the training set\u001b[39;00m\n\u001b[1;32m----> 2\u001b[0m \u001b[43mclf\u001b[49m\u001b[38;5;241;43m.\u001b[39;49m\u001b[43mfit\u001b[49m\u001b[43m(\u001b[49m\u001b[43mx_train\u001b[49m\u001b[43m,\u001b[49m\u001b[43m \u001b[49m\u001b[43my_train\u001b[49m\u001b[43m)\u001b[49m\n\u001b[0;32m      4\u001b[0m \u001b[38;5;66;03m#predictions on the test dataset\u001b[39;00m\n\u001b[0;32m      5\u001b[0m pred \u001b[38;5;241m=\u001b[39m clf\u001b[38;5;241m.\u001b[39mpredict(x_test)\n",
      "File \u001b[1;32mc:\\Users\\Owner\\AppData\\Local\\Programs\\Python\\Python39\\lib\\site-packages\\sklearn\\base.py:1351\u001b[0m, in \u001b[0;36m_fit_context.<locals>.decorator.<locals>.wrapper\u001b[1;34m(estimator, *args, **kwargs)\u001b[0m\n\u001b[0;32m   1344\u001b[0m     estimator\u001b[38;5;241m.\u001b[39m_validate_params()\n\u001b[0;32m   1346\u001b[0m \u001b[38;5;28;01mwith\u001b[39;00m config_context(\n\u001b[0;32m   1347\u001b[0m     skip_parameter_validation\u001b[38;5;241m=\u001b[39m(\n\u001b[0;32m   1348\u001b[0m         prefer_skip_nested_validation \u001b[38;5;129;01mor\u001b[39;00m global_skip_validation\n\u001b[0;32m   1349\u001b[0m     )\n\u001b[0;32m   1350\u001b[0m ):\n\u001b[1;32m-> 1351\u001b[0m     \u001b[38;5;28;01mreturn\u001b[39;00m fit_method(estimator, \u001b[38;5;241m*\u001b[39margs, \u001b[38;5;241m*\u001b[39m\u001b[38;5;241m*\u001b[39mkwargs)\n",
      "File \u001b[1;32mc:\\Users\\Owner\\AppData\\Local\\Programs\\Python\\Python39\\lib\\site-packages\\sklearn\\tree\\_classes.py:1009\u001b[0m, in \u001b[0;36mDecisionTreeClassifier.fit\u001b[1;34m(self, X, y, sample_weight, check_input)\u001b[0m\n\u001b[0;32m    978\u001b[0m \u001b[38;5;129m@_fit_context\u001b[39m(prefer_skip_nested_validation\u001b[38;5;241m=\u001b[39m\u001b[38;5;28;01mTrue\u001b[39;00m)\n\u001b[0;32m    979\u001b[0m \u001b[38;5;28;01mdef\u001b[39;00m \u001b[38;5;21mfit\u001b[39m(\u001b[38;5;28mself\u001b[39m, X, y, sample_weight\u001b[38;5;241m=\u001b[39m\u001b[38;5;28;01mNone\u001b[39;00m, check_input\u001b[38;5;241m=\u001b[39m\u001b[38;5;28;01mTrue\u001b[39;00m):\n\u001b[0;32m    980\u001b[0m \u001b[38;5;250m    \u001b[39m\u001b[38;5;124;03m\"\"\"Build a decision tree classifier from the training set (X, y).\u001b[39;00m\n\u001b[0;32m    981\u001b[0m \n\u001b[0;32m    982\u001b[0m \u001b[38;5;124;03m    Parameters\u001b[39;00m\n\u001b[1;32m   (...)\u001b[0m\n\u001b[0;32m   1006\u001b[0m \u001b[38;5;124;03m        Fitted estimator.\u001b[39;00m\n\u001b[0;32m   1007\u001b[0m \u001b[38;5;124;03m    \"\"\"\u001b[39;00m\n\u001b[1;32m-> 1009\u001b[0m     \u001b[38;5;28;43msuper\u001b[39;49m\u001b[43m(\u001b[49m\u001b[43m)\u001b[49m\u001b[38;5;241;43m.\u001b[39;49m\u001b[43m_fit\u001b[49m\u001b[43m(\u001b[49m\n\u001b[0;32m   1010\u001b[0m \u001b[43m        \u001b[49m\u001b[43mX\u001b[49m\u001b[43m,\u001b[49m\n\u001b[0;32m   1011\u001b[0m \u001b[43m        \u001b[49m\u001b[43my\u001b[49m\u001b[43m,\u001b[49m\n\u001b[0;32m   1012\u001b[0m \u001b[43m        \u001b[49m\u001b[43msample_weight\u001b[49m\u001b[38;5;241;43m=\u001b[39;49m\u001b[43msample_weight\u001b[49m\u001b[43m,\u001b[49m\n\u001b[0;32m   1013\u001b[0m \u001b[43m        \u001b[49m\u001b[43mcheck_input\u001b[49m\u001b[38;5;241;43m=\u001b[39;49m\u001b[43mcheck_input\u001b[49m\u001b[43m,\u001b[49m\n\u001b[0;32m   1014\u001b[0m \u001b[43m    \u001b[49m\u001b[43m)\u001b[49m\n\u001b[0;32m   1015\u001b[0m     \u001b[38;5;28;01mreturn\u001b[39;00m \u001b[38;5;28mself\u001b[39m\n",
      "File \u001b[1;32mc:\\Users\\Owner\\AppData\\Local\\Programs\\Python\\Python39\\lib\\site-packages\\sklearn\\tree\\_classes.py:252\u001b[0m, in \u001b[0;36mBaseDecisionTree._fit\u001b[1;34m(self, X, y, sample_weight, check_input, missing_values_in_feature_mask)\u001b[0m\n\u001b[0;32m    248\u001b[0m check_X_params \u001b[38;5;241m=\u001b[39m \u001b[38;5;28mdict\u001b[39m(\n\u001b[0;32m    249\u001b[0m     dtype\u001b[38;5;241m=\u001b[39mDTYPE, accept_sparse\u001b[38;5;241m=\u001b[39m\u001b[38;5;124m\"\u001b[39m\u001b[38;5;124mcsc\u001b[39m\u001b[38;5;124m\"\u001b[39m, force_all_finite\u001b[38;5;241m=\u001b[39m\u001b[38;5;28;01mFalse\u001b[39;00m\n\u001b[0;32m    250\u001b[0m )\n\u001b[0;32m    251\u001b[0m check_y_params \u001b[38;5;241m=\u001b[39m \u001b[38;5;28mdict\u001b[39m(ensure_2d\u001b[38;5;241m=\u001b[39m\u001b[38;5;28;01mFalse\u001b[39;00m, dtype\u001b[38;5;241m=\u001b[39m\u001b[38;5;28;01mNone\u001b[39;00m)\n\u001b[1;32m--> 252\u001b[0m X, y \u001b[38;5;241m=\u001b[39m \u001b[38;5;28;43mself\u001b[39;49m\u001b[38;5;241;43m.\u001b[39;49m\u001b[43m_validate_data\u001b[49m\u001b[43m(\u001b[49m\n\u001b[0;32m    253\u001b[0m \u001b[43m    \u001b[49m\u001b[43mX\u001b[49m\u001b[43m,\u001b[49m\u001b[43m \u001b[49m\u001b[43my\u001b[49m\u001b[43m,\u001b[49m\u001b[43m \u001b[49m\u001b[43mvalidate_separately\u001b[49m\u001b[38;5;241;43m=\u001b[39;49m\u001b[43m(\u001b[49m\u001b[43mcheck_X_params\u001b[49m\u001b[43m,\u001b[49m\u001b[43m \u001b[49m\u001b[43mcheck_y_params\u001b[49m\u001b[43m)\u001b[49m\n\u001b[0;32m    254\u001b[0m \u001b[43m\u001b[49m\u001b[43m)\u001b[49m\n\u001b[0;32m    256\u001b[0m missing_values_in_feature_mask \u001b[38;5;241m=\u001b[39m (\n\u001b[0;32m    257\u001b[0m     \u001b[38;5;28mself\u001b[39m\u001b[38;5;241m.\u001b[39m_compute_missing_values_in_feature_mask(X)\n\u001b[0;32m    258\u001b[0m )\n\u001b[0;32m    259\u001b[0m \u001b[38;5;28;01mif\u001b[39;00m issparse(X):\n",
      "File \u001b[1;32mc:\\Users\\Owner\\AppData\\Local\\Programs\\Python\\Python39\\lib\\site-packages\\sklearn\\base.py:645\u001b[0m, in \u001b[0;36mBaseEstimator._validate_data\u001b[1;34m(self, X, y, reset, validate_separately, cast_to_ndarray, **check_params)\u001b[0m\n\u001b[0;32m    643\u001b[0m \u001b[38;5;28;01mif\u001b[39;00m \u001b[38;5;124m\"\u001b[39m\u001b[38;5;124mestimator\u001b[39m\u001b[38;5;124m\"\u001b[39m \u001b[38;5;129;01mnot\u001b[39;00m \u001b[38;5;129;01min\u001b[39;00m check_X_params:\n\u001b[0;32m    644\u001b[0m     check_X_params \u001b[38;5;241m=\u001b[39m {\u001b[38;5;241m*\u001b[39m\u001b[38;5;241m*\u001b[39mdefault_check_params, \u001b[38;5;241m*\u001b[39m\u001b[38;5;241m*\u001b[39mcheck_X_params}\n\u001b[1;32m--> 645\u001b[0m X \u001b[38;5;241m=\u001b[39m check_array(X, input_name\u001b[38;5;241m=\u001b[39m\u001b[38;5;124m\"\u001b[39m\u001b[38;5;124mX\u001b[39m\u001b[38;5;124m\"\u001b[39m, \u001b[38;5;241m*\u001b[39m\u001b[38;5;241m*\u001b[39mcheck_X_params)\n\u001b[0;32m    646\u001b[0m \u001b[38;5;28;01mif\u001b[39;00m \u001b[38;5;124m\"\u001b[39m\u001b[38;5;124mestimator\u001b[39m\u001b[38;5;124m\"\u001b[39m \u001b[38;5;129;01mnot\u001b[39;00m \u001b[38;5;129;01min\u001b[39;00m check_y_params:\n\u001b[0;32m    647\u001b[0m     check_y_params \u001b[38;5;241m=\u001b[39m {\u001b[38;5;241m*\u001b[39m\u001b[38;5;241m*\u001b[39mdefault_check_params, \u001b[38;5;241m*\u001b[39m\u001b[38;5;241m*\u001b[39mcheck_y_params}\n",
      "File \u001b[1;32mc:\\Users\\Owner\\AppData\\Local\\Programs\\Python\\Python39\\lib\\site-packages\\sklearn\\utils\\validation.py:989\u001b[0m, in \u001b[0;36mcheck_array\u001b[1;34m(array, accept_sparse, accept_large_sparse, dtype, order, copy, force_all_finite, ensure_2d, allow_nd, ensure_min_samples, ensure_min_features, estimator, input_name)\u001b[0m\n\u001b[0;32m    982\u001b[0m         \u001b[38;5;28;01melse\u001b[39;00m:\n\u001b[0;32m    983\u001b[0m             msg \u001b[38;5;241m=\u001b[39m (\n\u001b[0;32m    984\u001b[0m                 \u001b[38;5;124mf\u001b[39m\u001b[38;5;124m\"\u001b[39m\u001b[38;5;124mExpected 2D array, got 1D array instead:\u001b[39m\u001b[38;5;130;01m\\n\u001b[39;00m\u001b[38;5;124marray=\u001b[39m\u001b[38;5;132;01m{\u001b[39;00marray\u001b[38;5;132;01m}\u001b[39;00m\u001b[38;5;124m.\u001b[39m\u001b[38;5;130;01m\\n\u001b[39;00m\u001b[38;5;124m\"\u001b[39m\n\u001b[0;32m    985\u001b[0m                 \u001b[38;5;124m\"\u001b[39m\u001b[38;5;124mReshape your data either using array.reshape(-1, 1) if \u001b[39m\u001b[38;5;124m\"\u001b[39m\n\u001b[0;32m    986\u001b[0m                 \u001b[38;5;124m\"\u001b[39m\u001b[38;5;124myour data has a single feature or array.reshape(1, -1) \u001b[39m\u001b[38;5;124m\"\u001b[39m\n\u001b[0;32m    987\u001b[0m                 \u001b[38;5;124m\"\u001b[39m\u001b[38;5;124mif it contains a single sample.\u001b[39m\u001b[38;5;124m\"\u001b[39m\n\u001b[0;32m    988\u001b[0m             )\n\u001b[1;32m--> 989\u001b[0m         \u001b[38;5;28;01mraise\u001b[39;00m \u001b[38;5;167;01mValueError\u001b[39;00m(msg)\n\u001b[0;32m    991\u001b[0m \u001b[38;5;28;01mif\u001b[39;00m dtype_numeric \u001b[38;5;129;01mand\u001b[39;00m \u001b[38;5;28mhasattr\u001b[39m(array\u001b[38;5;241m.\u001b[39mdtype, \u001b[38;5;124m\"\u001b[39m\u001b[38;5;124mkind\u001b[39m\u001b[38;5;124m\"\u001b[39m) \u001b[38;5;129;01mand\u001b[39;00m array\u001b[38;5;241m.\u001b[39mdtype\u001b[38;5;241m.\u001b[39mkind \u001b[38;5;129;01min\u001b[39;00m \u001b[38;5;124m\"\u001b[39m\u001b[38;5;124mUSV\u001b[39m\u001b[38;5;124m\"\u001b[39m:\n\u001b[0;32m    992\u001b[0m     \u001b[38;5;28;01mraise\u001b[39;00m \u001b[38;5;167;01mValueError\u001b[39;00m(\n\u001b[0;32m    993\u001b[0m         \u001b[38;5;124m\"\u001b[39m\u001b[38;5;124mdtype=\u001b[39m\u001b[38;5;124m'\u001b[39m\u001b[38;5;124mnumeric\u001b[39m\u001b[38;5;124m'\u001b[39m\u001b[38;5;124m is not compatible with arrays of bytes/strings.\u001b[39m\u001b[38;5;124m\"\u001b[39m\n\u001b[0;32m    994\u001b[0m         \u001b[38;5;124m\"\u001b[39m\u001b[38;5;124mConvert your data to numeric values explicitly instead.\u001b[39m\u001b[38;5;124m\"\u001b[39m\n\u001b[0;32m    995\u001b[0m     )\n",
      "\u001b[1;31mValueError\u001b[0m: Expected 2D array, got 1D array instead:\narray=[ 78.  82. 134.  51.  64. 103.  18.  59.  85.  73.  40.  88. 114.   1.\n  35.  96. 138. 130.  43.  25.  83. 106. 115. 104.  68.  70.  67. 128.\n  15.   9. 144. 147.   0. 122. 100.  28. 113.  63. 136. 125. 116. 105.\n  55.  17.  45. 146.  46. 143.  27.  21.  38.   4. 149.  69.  11. 110.\n  52.  84. 111.  33.   3.  57.  92.  44.  10.  37.  61. 124.  49.  36.\n  19.  56. 123. 120.  24.  62.  48.  23.  98.  14.  26.  72.  20.   7.\n  93.  39.  90.  77.  30. 109.   2.  22.  66.  31. 108.  86.   6.  97.\n  71. 118.  95.  81.  58. 119. 148.  65.  42. 142. 139.  54.  29. 132.\n  32. 126. 137.  12. 107.  13.  53.   8. 140. 112. 129.  76. 135.  80.\n  89. 131.  50.  41. 145.  99. 133.  34. 121.   5.  47. 127.  79. 117.].\nReshape your data either using array.reshape(-1, 1) if your data has a single feature or array.reshape(1, -1) if it contains a single sample."
     ]
    }
   ],
   "source": [
    "#training (fitting) the classifier with the training set\n",
    "clf.fit(x_train, y_train)\n",
    "\n",
    "#predictions on the test dataset\n",
    "pred = clf.predict(x_test)\n",
    "print(pred) #predicted labels i.e flower species\n",
    "print(y_test) #actual labels\n",
    "print((accuracy_score(pred, y_test)))*100 #prediction accuracy #Reference: http://docs.pythonguide.org/en/latest/scenarios/ml/\n",
    "\n"
   ]
  },
  {
   "cell_type": "markdown",
   "metadata": {},
   "source": [
    "## Ασκησή 2η"
   ]
  },
  {
   "cell_type": "code",
   "execution_count": 14,
   "metadata": {},
   "outputs": [
    {
     "name": "stdout",
     "output_type": "stream",
     "text": [
      "First student is Antonis and they are of 15 age\n"
     ]
    }
   ],
   "source": [
    "class Student():\n",
    "    \"Ένα άτομο που σπουδάζει\"\n",
    "    def __init__(self, name, age):\n",
    "        self.name = name\n",
    "        self.age  = age \n",
    "    def get_age(self):\n",
    "        return str(self.age) + ' age'\n",
    "\n",
    "stud1 = Student('Antonis', 15)\n",
    "stud2 = Student('Adam', 16)\n",
    "stud3 = Student('Giannis', 14)\n",
    "name1 = stud1.name\n",
    "age1 = stud1.age\n",
    "stud1.name\n",
    "stud1.get_age()\n",
    "print('First student is ' + stud1.name + ' and they are of ' + stud1.get_age())"
   ]
  },
  {
   "cell_type": "code",
   "execution_count": 20,
   "metadata": {},
   "outputs": [
    {
     "ename": "NameError",
     "evalue": "name 'empl1' is not defined",
     "output_type": "error",
     "traceback": [
      "\u001b[1;31m---------------------------------------------------------------------------\u001b[0m",
      "\u001b[1;31mNameError\u001b[0m                                 Traceback (most recent call last)",
      "Cell \u001b[1;32mIn[20], line 29\u001b[0m\n\u001b[0;32m     25\u001b[0m         count \u001b[38;5;241m=\u001b[39m count \u001b[38;5;241m+\u001b[39m \u001b[38;5;241m1\u001b[39m\n\u001b[0;32m     26\u001b[0m         emplactual\u001b[38;5;241m.\u001b[39mget_info()\n\u001b[1;32m---> 29\u001b[0m \u001b[38;5;28mprint\u001b[39m(\u001b[43mempl1\u001b[49m)\n\u001b[0;32m     32\u001b[0m \u001b[38;5;66;03m# empl1 = Employee('George', 3000)\u001b[39;00m\n\u001b[0;32m     33\u001b[0m \u001b[38;5;66;03m# empl2 = Employee('John', 2350)\u001b[39;00m\n\u001b[0;32m     34\u001b[0m \u001b[38;5;66;03m# empl3 =  Employee('Max', 1500)\u001b[39;00m\n\u001b[0;32m     35\u001b[0m \u001b[38;5;66;03m# empl4 = Employee('Maria', 2800)\u001b[39;00m\n",
      "\u001b[1;31mNameError\u001b[0m: name 'empl1' is not defined"
     ]
    }
   ],
   "source": [
    "\n",
    "the_employess=[]\n",
    "count = 0\n",
    "emplactual = 'empl' + str(count)\n",
    "\n",
    "\n",
    "\n",
    "class Employee():\n",
    "    def __init__(self, name, salary):\n",
    "        self.name = name\n",
    "        self.salary = salary\n",
    "    def get_info(self):\n",
    "        return 'Employee name: ' + self.name + 'With a salary of: ' + self.salary\n",
    "\n",
    "\n",
    "\n",
    "# while True:\n",
    "#     input_name = input('Enter employee name')\n",
    "#     if input_name == '':\n",
    "#         break\n",
    "        \n",
    "#     else:\n",
    "#         input_salary = input('Enter employee salary')\n",
    "#         emplactual = Employee(input_name, input_salary)\n",
    "#         the_employess.append(str(emplactual)) \n",
    "#         count = count + 1\n",
    "#         emplactual.get_info()\n",
    "\n",
    "while True:\n",
    "    name=input('name:')\n",
    "    if name == '':\n",
    "        break\n",
    "    else:\n",
    "        salary=input('sal')\n",
    "        e1=Employee(name,salary)\n",
    "        the_employess.append(e1)\n",
    "for objects in the_employess:\n",
    "    print(objects.name,objects.salary)\n",
    "    \n",
    "\n",
    "\n",
    "\n"
   ]
  },
  {
   "cell_type": "code",
   "execution_count": 19,
   "metadata": {},
   "outputs": [
    {
     "ename": "NameError",
     "evalue": "name 'empl1' is not defined",
     "output_type": "error",
     "traceback": [
      "\u001b[1;31m---------------------------------------------------------------------------\u001b[0m",
      "\u001b[1;31mNameError\u001b[0m                                 Traceback (most recent call last)",
      "Cell \u001b[1;32mIn[19], line 1\u001b[0m\n\u001b[1;32m----> 1\u001b[0m \u001b[38;5;28mprint\u001b[39m(\u001b[43mempl1\u001b[49m)\n",
      "\u001b[1;31mNameError\u001b[0m: name 'empl1' is not defined"
     ]
    }
   ],
   "source": [
    "print(empl1)"
   ]
  },
  {
   "cell_type": "markdown",
   "metadata": {},
   "source": [
    "# Ασκηση 3η"
   ]
  },
  {
   "cell_type": "code",
   "execution_count": 13,
   "metadata": {},
   "outputs": [
    {
     "name": "stdout",
     "output_type": "stream",
     "text": [
      "Διαθέσιμες θέσεις:498\n",
      "Συνολικό κόστος:15\n",
      "Διαθέσιμες θέσεις:496\n",
      "Συνολικό κόστος:15\n"
     ]
    },
    {
     "ename": "ValueError",
     "evalue": "invalid literal for int() with base 10: ''",
     "output_type": "error",
     "traceback": [
      "\u001b[1;31m---------------------------------------------------------------------------\u001b[0m",
      "\u001b[1;31mValueError\u001b[0m                                Traceback (most recent call last)",
      "Cell \u001b[1;32mIn[13], line 21\u001b[0m\n\u001b[0;32m     18\u001b[0m         \u001b[38;5;28mprint\u001b[39m(\u001b[38;5;124m'\u001b[39m\u001b[38;5;124mΣυνολικό κόστος:\u001b[39m\u001b[38;5;124m'\u001b[39m \u001b[38;5;241m+\u001b[39m \u001b[38;5;28mstr\u001b[39m(cost))\n\u001b[0;32m     20\u001b[0m \u001b[38;5;28;01mwhile\u001b[39;00m verify \u001b[38;5;241m==\u001b[39m \u001b[38;5;28;01mTrue\u001b[39;00m:\n\u001b[1;32m---> 21\u001b[0m     \u001b[38;5;28;01mif\u001b[39;00m \u001b[38;5;28;43mint\u001b[39;49m\u001b[43m(\u001b[49m\u001b[43mnumberadults\u001b[49m\u001b[43m)\u001b[49m \u001b[38;5;241m+\u001b[39m \u001b[38;5;28mint\u001b[39m(numberchildren) \u001b[38;5;241m<\u001b[39m emptyseats:\n\u001b[0;32m     22\u001b[0m         totalchildren \u001b[38;5;241m=\u001b[39m \u001b[38;5;28mint\u001b[39m(totalchildren) \u001b[38;5;241m+\u001b[39m \u001b[38;5;28mint\u001b[39m(numberchildren)\n\u001b[0;32m     23\u001b[0m         totalviewers \u001b[38;5;241m=\u001b[39m \u001b[38;5;28mint\u001b[39m(totalviewers) \u001b[38;5;241m+\u001b[39m \u001b[38;5;28mint\u001b[39m((numberadults \u001b[38;5;241m+\u001b[39m numberchildren))\n",
      "\u001b[1;31mValueError\u001b[0m: invalid literal for int() with base 10: ''"
     ]
    }
   ],
   "source": [
    "totalincome = 0\n",
    "numberadults = input('Εισάγετε πλήθος ενηλίκων:')\n",
    "numberchildren = input('Εισάγετε πλήθος παιδιών:')\n",
    "totalchildren = 0\n",
    "totalviewers = 0\n",
    "emptyseats = 500\n",
    "verify = True\n",
    "\n",
    "if int(numberadults) >= 0:\n",
    "    verify = True\n",
    "else: verify = False\n",
    "\n",
    "\n",
    "def EISITIRIO():\n",
    "        global totalincome\n",
    "        cost = int(numberchildren)*5 + int(numberadults)*10\n",
    "        totalincome = int(totalincome) + int(cost)\n",
    "        print('Συνολικό κόστος:' + str(cost))\n",
    "\n",
    "while verify == True:\n",
    "    if int(numberadults) + int(numberchildren) < emptyseats:\n",
    "        totalchildren = int(totalchildren) + int(numberchildren)\n",
    "        totalviewers = int(totalviewers) + int((numberadults + numberchildren))\n",
    "        emptyseats = emptyseats - (int(numberadults) + int(numberchildren))\n",
    "        print('Διαθέσιμες θέσεις:' + str(emptyseats))\n",
    "        EISITIRIO()\n",
    "        numberadults = input('Εισάγετε πλήθος ενηλίκων:')\n",
    "        numberchildren = input('Εισάγετε πλήθος παιδιών:')\n",
    "    else: break\n",
    "\n",
    "    \n",
    "\n",
    "\n"
   ]
  },
  {
   "cell_type": "code",
   "execution_count": null,
   "metadata": {},
   "outputs": [],
   "source": [
    "print(totalincome)\n",
    "print(totalchildren/totalviewers)"
   ]
  },
  {
   "cell_type": "code",
   "execution_count": null,
   "metadata": {},
   "outputs": [],
   "source": []
  },
  {
   "cell_type": "markdown",
   "metadata": {},
   "source": [
    "## Άσκηση 4η"
   ]
  },
  {
   "cell_type": "code",
   "execution_count": 5,
   "metadata": {},
   "outputs": [],
   "source": [
    "LI = [\"α\", \"δ\", \"γ\", \"β\", \"δ\", \"γ\", \"β\", \"α\", \"δ\",\"γ\", \"β\", \"δ\", \"γ\", \"β\", \"α\"]\n",
    "ON = []\n",
    "FinalGrades = []\n",
    "Best = []\n",
    "grade = 0\n",
    "answer = \"\"\n",
    "\n",
    "\n",
    "for i in range (1,5):\n",
    "    candinatename = input(\"Όνομα υποψηφίου:\")\n",
    "    ON.append(candinatename)\n",
    "    for a in range (1,15):\n",
    "        answer  = input('Απάντηση:')\n",
    "        if answer == LI[a]:\n",
    "            grade =+ 3\n",
    "        else: \n",
    "            if answer == 'ε':\n",
    "                grade = grade\n",
    "            else:\n",
    "                grade =- 1\n",
    "\n",
    "    FinalGrades.append(grade)\n",
    "    grade = 0\n",
    "\n",
    "average = int(sum(FinalGrades)) / int(len(FinalGrades))\n",
    "\n",
    "for l in range (1,5):\n",
    "    if FinalGrades[l] >= average:\n",
    "        print(ON[l])\n",
    "\n",
    "# for e in range (1,5):\n",
    "#     if FinalGrades[e] > FinalGrades[e-1]:\n",
    "#         FinalGrades[e] = FinalGrades[e-1]\n",
    "#         ON[e] = ON[e-1]\n",
    "\n",
    "\n",
    "\n",
    "\n",
    "\n",
    "    \n",
    "\n",
    "\n",
    "    \n",
    "\n",
    "\n",
    "\n",
    "    \n",
    "        \n",
    "\n",
    "\n",
    "        \n"
   ]
  },
  {
   "cell_type": "code",
   "execution_count": 2,
   "metadata": {},
   "outputs": [
    {
     "name": "stdout",
     "output_type": "stream",
     "text": [
      "['δ', 'γ', 'β', 'δ', 'γ', 'β', 'α', 'δ', 'γ', 'β', 'δ', 'γ', 'β', 'α']\n"
     ]
    }
   ],
   "source": [
    "names = []\n",
    "LI = [\"α\", \"δ\", \"γ\", \"β\", \"δ\", \"γ\", \"β\", \"α\", \"δ\",\"γ\", \"β\", \"δ\", \"γ\", \"β\", \"α\"]\n",
    "SV = []\n",
    "\n",
    "for i in range (1,5):\n",
    "    name = input('give name')\n",
    "    names.append(name)\n",
    "\n",
    "for j in range (0,15):\n",
    "    answer=input('give')"
   ]
  },
  {
   "cell_type": "markdown",
   "metadata": {},
   "source": [
    "##  Άσκηση 5η"
   ]
  },
  {
   "cell_type": "code",
   "execution_count": 5,
   "metadata": {},
   "outputs": [
    {
     "name": "stdout",
     "output_type": "stream",
     "text": [
      "False number\n"
     ]
    }
   ],
   "source": [
    "numbers = []\n",
    "userinput = input('Submit number:')\n",
    "verify = True\n",
    "\n",
    "while userinput != 'None':\n",
    "    numbers.append(userinput)\n",
    "    userinput = input('Submit number:')\n",
    "\n",
    "def action():\n",
    "    need = input('Check number:')\n",
    "    if need in numbers:\n",
    "        verify = True\n",
    "    else: verify = False\n",
    "    if verify == True:\n",
    "        print('Number exists')\n",
    "    else: print('False number')\n",
    "    \n",
    "action()\n",
    "\n"
   ]
  },
  {
   "cell_type": "code",
   "execution_count": 4,
   "metadata": {},
   "outputs": [
    {
     "name": "stdout",
     "output_type": "stream",
     "text": [
      "['5', '4', '3', '2', '1', '3']\n"
     ]
    }
   ],
   "source": [
    "print(numbers)"
   ]
  },
  {
   "cell_type": "markdown",
   "metadata": {},
   "source": [
    "## Άσκηση 6η"
   ]
  },
  {
   "cell_type": "code",
   "execution_count": null,
   "metadata": {},
   "outputs": [],
   "source": [
    "numbers = [25, 15, -7, 10, 3]\n",
    "\n",
    "def BubbleSort(numbers):\n",
    "    N = len(numbers)\n",
    "    for i in range (0,N-1,+1):\n",
    "        for j in range(N-1,i,-1):\n",
    "            if numbers[j] <= numbers[j-1]:\n",
    "                numbers[j],numbers[j-1] =  numbers[j-1], numbers[j]\n"
   ]
  },
  {
   "cell_type": "markdown",
   "metadata": {},
   "source": [
    "## Άσκηση 7η"
   ]
  },
  {
   "cell_type": "code",
   "execution_count": 11,
   "metadata": {},
   "outputs": [
    {
     "name": "stdout",
     "output_type": "stream",
     "text": [
      "team2\n"
     ]
    }
   ],
   "source": [
    "OMADES = []\n",
    "BATHMOI = []\n",
    "\n",
    "for t in range (0,5):\n",
    "    team = input('Add team:')\n",
    "    OMADES.append(team)\n",
    "    score = input('Add score:')\n",
    "    BATHMOI.append(score)\n",
    "\n",
    "PROK =  []\n",
    "BATHPROK = []\n",
    "\n",
    "for p in range(len(OMADES)):\n",
    "    if int(BATHMOI[p]) > 150:\n",
    "        PROK.append(OMADES[p])\n",
    "        BATHPROK.append(BATHMOI[p])\n",
    "\n",
    "def BubbleSort(BATHPROK):\n",
    "    N = len(BATHPROK)\n",
    "    for i in range (0,N-1,+1):\n",
    "        for j in range(N-1,i,+1):\n",
    "            if BATHPROK[j] > BATHPROK[j-1]:\n",
    "                BATHPROK[j-1],BATHPROK[j]  =  BATHPROK[j], BATHPROK[j-1]\n",
    "                PROK[j-1],PROK[j]  =  PROK[j], PROK[j-1]\n",
    "            # elif BATHPROK[j] == BATHPROK[j-1]:\n",
    "\n",
    "\n",
    "print(PROK[0])\n"
   ]
  },
  {
   "cell_type": "code",
   "execution_count": 13,
   "metadata": {},
   "outputs": [
    {
     "name": "stdout",
     "output_type": "stream",
     "text": [
      "['team2', 'team5']\n",
      "['190', '170']\n"
     ]
    }
   ],
   "source": [
    "print(PROK)\n",
    "print(BATHPROK)"
   ]
  }
 ],
 "metadata": {
  "kernelspec": {
   "display_name": "Python 3",
   "language": "python",
   "name": "python3"
  },
  "language_info": {
   "codemirror_mode": {
    "name": "ipython",
    "version": 3
   },
   "file_extension": ".py",
   "mimetype": "text/x-python",
   "name": "python",
   "nbconvert_exporter": "python",
   "pygments_lexer": "ipython3",
   "version": "3.9.0"
  }
 },
 "nbformat": 4,
 "nbformat_minor": 2
}
